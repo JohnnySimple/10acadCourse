{
 "cells": [
  {
   "cell_type": "code",
   "execution_count": 66,
   "metadata": {},
   "outputs": [],
   "source": [
    "import pandas as pd\n",
    "import re"
   ]
  },
  {
   "cell_type": "code",
   "execution_count": 3,
   "metadata": {},
   "outputs": [],
   "source": [
    "gov_tweet_data = pd.read_csv('gov_tweet_data.csv')\n",
    "influes_tweet_data = pd.read_csv('influes_tweet_data.csv')"
   ]
  },
  {
   "cell_type": "code",
   "execution_count": 81,
   "metadata": {},
   "outputs": [
    {
     "data": {
      "text/plain": [
       "[\"'\",\n",
       " 't',\n",
       " 'e',\n",
       " 'x',\n",
       " 't',\n",
       " \"'\",\n",
       " ' ',\n",
       " \"'\",\n",
       " 'g',\n",
       " 'o',\n",
       " 'o',\n",
       " 'd',\n",
       " 't',\n",
       " 'r',\n",
       " 'o',\n",
       " 'u',\n",
       " 'b',\n",
       " 'l',\n",
       " 'e',\n",
       " \"'\",\n",
       " ' ',\n",
       " \"'\",\n",
       " 'i',\n",
       " 'n',\n",
       " 'd',\n",
       " 'i',\n",
       " 'c',\n",
       " 'e',\n",
       " 's',\n",
       " \"'\",\n",
       " ' ',\n",
       " '2',\n",
       " '3',\n",
       " '1',\n",
       " ' ',\n",
       " '2',\n",
       " '4',\n",
       " '3']"
      ]
     },
     "execution_count": 81,
     "metadata": {},
     "output_type": "execute_result"
    }
   ],
   "source": [
    "# for hashtag in gov_tweet_data['hashtags']:\n",
    "#     print(hashtag)\n",
    "lst = gov_tweet_data['hashtags'].tolist()\n",
    "re.findall(r'[' '\\w \\']', lst[0])"
   ]
  },
  {
   "cell_type": "code",
   "execution_count": null,
   "metadata": {},
   "outputs": [],
   "source": []
  }
 ],
 "metadata": {
  "kernelspec": {
   "display_name": "Python 3",
   "language": "python",
   "name": "python3"
  },
  "language_info": {
   "codemirror_mode": {
    "name": "ipython",
    "version": 3
   },
   "file_extension": ".py",
   "mimetype": "text/x-python",
   "name": "python",
   "nbconvert_exporter": "python",
   "pygments_lexer": "ipython3",
   "version": "3.7.6"
  }
 },
 "nbformat": 4,
 "nbformat_minor": 4
}
