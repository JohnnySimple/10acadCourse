{
 "cells": [
  {
   "cell_type": "code",
   "execution_count": 1,
   "metadata": {},
   "outputs": [],
   "source": [
    "import pandas as pd"
   ]
  },
  {
   "cell_type": "code",
   "execution_count": 36,
   "metadata": {},
   "outputs": [],
   "source": [
    "lst = [['culture', '#IndependenceDay', '#ghanamostbeautiful', '#GhanaCulture', '#GhanaMostStrongest', '#KnowYourAfrica', \n",
    "       '#Ghana', '#SayNoToCorruption'],\n",
    "       ['economy', '#yearofreturn', '#ghanaianbusiness', '#localbusiness', '#GhanaBeyondAid'],\n",
    "       ['health', '#StayHomeStaySafe', '#socialdistancing', '#WearAMask', '#ghanacovid19'],\n",
    "       ['social', '#GHtourism', '#ghweddings', '#HappyMothersDay', '#BringBackTheLove', '#TadiGirls']]"
   ]
  },
  {
   "cell_type": "code",
   "execution_count": 39,
   "metadata": {},
   "outputs": [],
   "source": [
    "df = pd.DataFrame(lst)\n",
    "df = df.T\n",
    "cols = df.loc[0].tolist()\n",
    "cols\n",
    "df.columns = cols\n",
    "df.drop(0)\n",
    "df.to_csv('gh_hashtags.csv')"
   ]
  },
  {
   "cell_type": "code",
   "execution_count": 41,
   "metadata": {},
   "outputs": [],
   "source": [
    "x = pd.read_csv('gh_hashtags.csv')"
   ]
  },
  {
   "cell_type": "code",
   "execution_count": 42,
   "metadata": {},
   "outputs": [
    {
     "data": {
      "text/plain": [
       "0                culture\n",
       "1       #IndependenceDay\n",
       "2    #ghanamostbeautiful\n",
       "3          #GhanaCulture\n",
       "4    #GhanaMostStrongest\n",
       "5        #KnowYourAfrica\n",
       "6                 #Ghana\n",
       "7     #SayNoToCorruption\n",
       "Name: culture, dtype: object"
      ]
     },
     "execution_count": 42,
     "metadata": {},
     "output_type": "execute_result"
    }
   ],
   "source": [
    "x['culture']"
   ]
  }
 ],
 "metadata": {
  "kernelspec": {
   "display_name": "Python 3",
   "language": "python",
   "name": "python3"
  },
  "language_info": {
   "codemirror_mode": {
    "name": "ipython",
    "version": 3
   },
   "file_extension": ".py",
   "mimetype": "text/x-python",
   "name": "python",
   "nbconvert_exporter": "python",
   "pygments_lexer": "ipython3",
   "version": "3.7.6"
  }
 },
 "nbformat": 4,
 "nbformat_minor": 4
}
